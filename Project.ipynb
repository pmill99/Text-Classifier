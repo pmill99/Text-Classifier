{
 "cells": [
  {
   "cell_type": "markdown",
   "metadata": {},
   "source": [
    "<h3>Import Libraries and Read Dataset"
   ]
  },
  {
   "cell_type": "code",
   "execution_count": 3,
   "metadata": {},
   "outputs": [],
   "source": [
    "import numpy as np\n",
    "import pandas as pd\n",
    "from sklearn.model_selection import train_test_split\n",
    "from nltk.corpus import stopwords\n",
    "from nltk.stem import SnowballStemmer\n",
    "import re\n",
    "stemmer = SnowballStemmer('english')\n",
    "stop_words = set(stopwords.words('english'))\n",
    "data = pd.read_csv('data.csv')"
   ]
  },
  {
   "cell_type": "markdown",
   "metadata": {},
   "source": [
    "<h1>Stemming and Removing Stopwords"
   ]
  },
  {
   "cell_type": "code",
   "execution_count": 4,
   "metadata": {},
   "outputs": [],
   "source": [
    "def stopwords_and_stemming(text):\n",
    "    text = text.split()\n",
    "    clean_data = []\n",
    "    for word in text:\n",
    "        if word not in stop_words:\n",
    "            clean_data.append(stemmer.stem(word))\n",
    "    return clean_data\n",
    "\n",
    "def remove_punc(words):\n",
    "    new_list = []\n",
    "    for i in words:\n",
    "        new_string = ''\n",
    "        for char in i:\n",
    "            if char.isalnum() and char != '.' and char != ',' and char != \"'\":\n",
    "                new_string += char\n",
    "        new_list.append(new_string)\n",
    "    return new_list\n",
    "\n",
    "\n",
    "data['Text'] = data['Text'].apply(stopwords_and_stemming).apply(remove_punc)"
   ]
  },
  {
   "cell_type": "markdown",
   "metadata": {},
   "source": [
    "<h1>Creating Text Classifier Class"
   ]
  },
  {
   "cell_type": "code",
   "execution_count": 30,
   "metadata": {},
   "outputs": [],
   "source": [
    "class TextClassifier():\n",
    "    def __init__(self, dataset):\n",
    "        #Splitting the given data\n",
    "        txt_train, txt_test, cat_train, cat_test = train_test_split(dataset.Text, dataset.Category, test_size=.2)\n",
    "        #Creating training set and test set for class\n",
    "        self.training_set = pd.DataFrame({'Text':txt_train,'Category':cat_train})\n",
    "        self.test_set = pd.DataFrame({'Text':txt_test,'Category':cat_test})\n",
    "        self.raw_data = dataset\n",
    "        print('Model Created...')\n",
    "\n",
    "    def run_model(self):\n",
    "        print('Formatting training data...')\n",
    "        self.training_set = self.create_training_table()\n",
    "        print('Making predictions...')\n",
    "        self.predict()\n",
    "        \n",
    "\n",
    "    def create_training_table(self):\n",
    "        for article in self.training_set[self.training_set['Category'] == 'Sports'].Text:\n",
    "            sports_words = list(article)\n",
    "\n",
    "        for article in self.training_set[self.training_set['Category'] == 'Business'].Text:\n",
    "            business_words = list(article)\n",
    "\n",
    "        for article in self.training_set[self.training_set['Category'] == 'Politics'].Text:\n",
    "            poli_words = list(article)\n",
    "\n",
    "        self.training_data_sports = sports_words\n",
    "        self.training_data_business = business_words\n",
    "        self.training_data_politics = poli_words\n",
    "        print('Training sets created')\n",
    "\n",
    "    def conditional_prob(self, word, category):\n",
    "        if category == 'Sports':\n",
    "            if word in self.training_data_sports:\n",
    "                return (self.training_data_sports.count(word)) / len(self.training_data_sports)\n",
    "            else:\n",
    "                return 1\n",
    "        elif category == 'Business':\n",
    "            if word in self.training_data_business:\n",
    "                return (self.training_data_business.count(word)) / len(self.training_data_business)\n",
    "            else:\n",
    "                return 1\n",
    "        elif category == 'Politics':\n",
    "            if word in self.training_data_politics:\n",
    "                return (self.training_data_politics.count(word)) / len(self.training_data_politics)\n",
    "            else:\n",
    "                return 1\n",
    "        else:\n",
    "            return('Invalid Category')\n",
    "    \n",
    "    def predict(self, lst):\n",
    "        sports_prob, bus_prob, poli_prob = 1, 1, 1\n",
    "        for word in lst:\n",
    "            sports_prob *= self.conditional_prob(word, 'Sports')\n",
    "            bus_prob *= self.conditional_prob(word, 'Business')\n",
    "            poli_prob *= self.conditional_prob(word, 'Politics')\n",
    "        sports_prob /= 3\n",
    "        bus_prob /= 3\n",
    "        poli_prob /= 3\n",
    "        if sports_prob>bus_prob and sports_prob>poli_prob:\n",
    "            return('Sports')\n",
    "        elif bus_prob>sports_prob and bus_prob>poli_prob:\n",
    "            return('Business')\n",
    "        elif poli_prob>sports_prob and poli_prob>bus_prob:\n",
    "            return('Politics')\n",
    "        else:\n",
    "            return ('Ambig.')\n",
    "    \n",
    "    def run(self):\n",
    "        self.test_set['Predicted'] = self.test_set['Text'].apply(self.predict)"
   ]
  },
  {
   "cell_type": "code",
   "execution_count": 31,
   "metadata": {},
   "outputs": [
    {
     "name": "stdout",
     "output_type": "stream",
     "text": [
      "Model Created...\n",
      "Training sets created\n"
     ]
    }
   ],
   "source": [
    "model = TextClassifier(data)\n",
    "model.create_training_table()"
   ]
  },
  {
   "cell_type": "code",
   "execution_count": 32,
   "metadata": {},
   "outputs": [],
   "source": [
    "model.run()"
   ]
  },
  {
   "cell_type": "code",
   "execution_count": 33,
   "metadata": {},
   "outputs": [
    {
     "data": {
      "text/html": [
       "<div>\n",
       "<style scoped>\n",
       "    .dataframe tbody tr th:only-of-type {\n",
       "        vertical-align: middle;\n",
       "    }\n",
       "\n",
       "    .dataframe tbody tr th {\n",
       "        vertical-align: top;\n",
       "    }\n",
       "\n",
       "    .dataframe thead th {\n",
       "        text-align: right;\n",
       "    }\n",
       "</style>\n",
       "<table border=\"1\" class=\"dataframe\">\n",
       "  <thead>\n",
       "    <tr style=\"text-align: right;\">\n",
       "      <th></th>\n",
       "      <th>Text</th>\n",
       "      <th>Category</th>\n",
       "      <th>Predicted</th>\n",
       "    </tr>\n",
       "  </thead>\n",
       "  <tbody>\n",
       "    <tr>\n",
       "      <th>13</th>\n",
       "      <td>[inflat, could, surg, 5, earli, next, year, un...</td>\n",
       "      <td>Business</td>\n",
       "      <td>Politics</td>\n",
       "    </tr>\n",
       "    <tr>\n",
       "      <th>6</th>\n",
       "      <td>[an, italian, dj, claim, suffer, number, injur...</td>\n",
       "      <td>Sports</td>\n",
       "      <td>Business</td>\n",
       "    </tr>\n",
       "    <tr>\n",
       "      <th>27</th>\n",
       "      <td>[presid, joe, biden, said, thursday, even, he,...</td>\n",
       "      <td>Politics</td>\n",
       "      <td>Politics</td>\n",
       "    </tr>\n",
       "    <tr>\n",
       "      <th>22</th>\n",
       "      <td>[presid, joe, biden, said, thursday, would, su...</td>\n",
       "      <td>Politics</td>\n",
       "      <td>Politics</td>\n",
       "    </tr>\n",
       "    <tr>\n",
       "      <th>26</th>\n",
       "      <td>[the, hous, repres, vote, thursday, hold, stev...</td>\n",
       "      <td>Politics</td>\n",
       "      <td>Business</td>\n",
       "    </tr>\n",
       "    <tr>\n",
       "      <th>19</th>\n",
       "      <td>[when, amazon, open, sprawl, warehous, communi...</td>\n",
       "      <td>Business</td>\n",
       "      <td>Politics</td>\n",
       "    </tr>\n",
       "  </tbody>\n",
       "</table>\n",
       "</div>"
      ],
      "text/plain": [
       "                                                 Text  Category Predicted\n",
       "13  [inflat, could, surg, 5, earli, next, year, un...  Business  Politics\n",
       "6   [an, italian, dj, claim, suffer, number, injur...    Sports  Business\n",
       "27  [presid, joe, biden, said, thursday, even, he,...  Politics  Politics\n",
       "22  [presid, joe, biden, said, thursday, would, su...  Politics  Politics\n",
       "26  [the, hous, repres, vote, thursday, hold, stev...  Politics  Business\n",
       "19  [when, amazon, open, sprawl, warehous, communi...  Business  Politics"
      ]
     },
     "execution_count": 33,
     "metadata": {},
     "output_type": "execute_result"
    }
   ],
   "source": [
    "model.test_set"
   ]
  },
  {
   "cell_type": "code",
   "execution_count": null,
   "metadata": {},
   "outputs": [],
   "source": []
  }
 ],
 "metadata": {
  "interpreter": {
   "hash": "caa02fbe39fa2ee16d45552c290d7402c36c73c484e83d2d190ee580e317b9da"
  },
  "kernelspec": {
   "display_name": "Python 3.9.7 64-bit",
   "name": "python3"
  },
  "language_info": {
   "codemirror_mode": {
    "name": "ipython",
    "version": 3
   },
   "file_extension": ".py",
   "mimetype": "text/x-python",
   "name": "python",
   "nbconvert_exporter": "python",
   "pygments_lexer": "ipython3",
   "version": "3.9.7"
  },
  "orig_nbformat": 4
 },
 "nbformat": 4,
 "nbformat_minor": 2
}
