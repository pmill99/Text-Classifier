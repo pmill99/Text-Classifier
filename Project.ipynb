{
 "cells": [
  {
   "cell_type": "markdown",
   "metadata": {},
   "source": [
    "<h3>Import Libraries and Read Dataset"
   ]
  },
  {
   "cell_type": "code",
   "execution_count": 74,
   "metadata": {},
   "outputs": [],
   "source": [
    "import numpy as np\n",
    "import pandas as pd\n",
    "from sklearn.model_selection import train_test_split\n",
    "from nltk.corpus import stopwords\n",
    "from nltk.stem import SnowballStemmer\n",
    "import operator\n",
    "stemmer = SnowballStemmer('english')\n",
    "stop_words = set(stopwords.words('english'))\n",
    "data = pd.read_csv('data.csv')\n",
    "\n",
    "def stopwords_and_stemming(text):\n",
    "    text = text.split()\n",
    "    clean_data = []\n",
    "    for word in text:\n",
    "        if word not in stop_words:\n",
    "            clean_data.append(stemmer.stem(word))\n",
    "    return clean_data\n",
    "\n",
    "def remove_punc(words):\n",
    "    new_list = []\n",
    "    for i in words:\n",
    "        new_string = ''\n",
    "        for char in i:\n",
    "            if char.isalnum() and char != '.' and char != ',' and char != \"'\":\n",
    "                new_string += char\n",
    "        new_list.append(new_string)\n",
    "    return new_list"
   ]
  },
  {
   "cell_type": "markdown",
   "metadata": {},
   "source": [
    "<h1>Creating Text Classifier Class"
   ]
  },
  {
   "cell_type": "code",
   "execution_count": 75,
   "metadata": {},
   "outputs": [],
   "source": [
    "class TextClassifier():\n",
    "    def __init__(self, dataset):\n",
    "        dataset['Text'] = dataset['Text'].apply(stopwords_and_stemming).apply(remove_punc)\n",
    "        #Splitting the given data\n",
    "        txt_train, txt_test, cat_train, cat_test = train_test_split(dataset.Text, dataset.Category, test_size=.2)\n",
    "        #Creating training set and test set for class\n",
    "        self.training_set = pd.DataFrame({'Text':txt_train,'Category':cat_train})\n",
    "        self.test_set = pd.DataFrame({'Text':txt_test,'Category':cat_test})\n",
    "        self.raw_data = dataset\n",
    "        print('Model Created...')\n",
    "\n",
    "\n",
    "    def create_training_table(self):\n",
    "        for article in self.training_set[self.training_set['Category'] == 'Sports'].Text:\n",
    "            sports_words = list(article)\n",
    "\n",
    "        for article in self.training_set[self.training_set['Category'] == 'Business'].Text:\n",
    "            business_words = list(article)\n",
    "\n",
    "        for article in self.training_set[self.training_set['Category'] == 'Politics'].Text:\n",
    "            poli_words = list(article)\n",
    "\n",
    "        self.training_data_sports = sports_words\n",
    "        self.training_data_business = business_words\n",
    "        self.training_data_politics = poli_words\n",
    "        print('Training sets created')\n",
    "\n",
    "    def conditional_prob(self, word, category):\n",
    "        if category == 'Sports':\n",
    "            if word in self.training_data_sports:\n",
    "                return (self.training_data_sports.count(word)) / len(self.training_data_sports)\n",
    "            else:\n",
    "                return 1\n",
    "        elif category == 'Business':\n",
    "            if word in self.training_data_business:\n",
    "                return (self.training_data_business.count(word)) / len(self.training_data_business)\n",
    "            else:\n",
    "                return 1\n",
    "        elif category == 'Politics':\n",
    "            if word in self.training_data_politics:\n",
    "                return (self.training_data_politics.count(word)) / len(self.training_data_politics)\n",
    "            else:\n",
    "                return 1\n",
    "        else:\n",
    "            return('Invalid Category')\n",
    "    \n",
    "    def predict(self, lst):\n",
    "        sports_prob, bus_prob, poli_prob = 1, 1, 1\n",
    "        for word in lst:\n",
    "            sports_prob *= self.conditional_prob(word, 'Sports')\n",
    "            bus_prob *= self.conditional_prob(word, 'Business')\n",
    "            poli_prob *= self.conditional_prob(word, 'Politics')\n",
    "        sports_prob /= 3\n",
    "        bus_prob /= 3\n",
    "        poli_prob /= 3\n",
    "\n",
    "        probabilities = {'Sports':sports_prob, 'Business':bus_prob, 'Politics':poli_prob}\n",
    "        return max(probabilities.items(), key=operator.itemgetter(1))[0]\n",
    "    \n",
    "    def run(self):\n",
    "        self.create_training_table()\n",
    "        self.test_set['Predicted'] = self.test_set['Text'].apply(self.predict)\n",
    "        num_correct = np.where(self.test_set['Category'] == self.test_set['Predicted'], 1, 0)\n",
    "        print(f'Accuracy: {np.sum(num_correct)/len(self.test_set)}')\n",
    "        print(self.test_set)"
   ]
  },
  {
   "cell_type": "code",
   "execution_count": 76,
   "metadata": {},
   "outputs": [
    {
     "name": "stdout",
     "output_type": "stream",
     "text": [
      "Model Created...\n",
      "Training sets created\n",
      "Accuracy: 0.5\n",
      "                                                 Text  Category Predicted\n",
      "17  [evergrand, made, crucial, payment, allow, sta...  Business    Sports\n",
      "25  [neera, tanden, name, white, hous, staff, secr...  Politics    Sports\n",
      "11  [price, consum, good, rise, unit, state, tangl...  Business    Sports\n",
      "3   [greec, maria, sakkari, make, debut, wta, fina...    Sports    Sports\n",
      "5   [the, nba, face, anoth, incid, involv, china, ...    Sports    Sports\n",
      "7   [canadian, athlet, look, compet, team, canada,...    Sports    Sports\n"
     ]
    }
   ],
   "source": [
    "model = TextClassifier(data)\n",
    "model.run()"
   ]
  },
  {
   "cell_type": "markdown",
   "metadata": {},
   "source": [
    "<h1>Comparing to SKLearn Naive Bayes Model"
   ]
  },
  {
   "cell_type": "code",
   "execution_count": 77,
   "metadata": {},
   "outputs": [
    {
     "name": "stdout",
     "output_type": "stream",
     "text": [
      "Accuracy: 1.0\n",
      "                                                 Text  Category Predicted\n",
      "3   Greece's Maria Sakkari will make her debut at ...    Sports    Sports\n",
      "26  The House of Representatives voted on Thursday...  Politics  Politics\n",
      "4   Gymnast Simone Biles, who disclosed her mental...    Sports    Sports\n",
      "13  Inflation could surge above 5% early next year...  Business  Business\n",
      "10  President Joe Biden faces a number of economic...  Business  Business\n",
      "27  President Joe Biden said Thursday evening he's...  Politics  Politics\n"
     ]
    }
   ],
   "source": [
    "from sklearn.pipeline import make_pipeline\n",
    "from sklearn.feature_extraction.text import TfidfVectorizer\n",
    "from sklearn.naive_bayes import MultinomialNB\n",
    "data=pd.read_csv('data.csv')\n",
    "\n",
    "test, train = pd.DataFrame(), pd.DataFrame()\n",
    "train['Text'], test['Text'], train['Category'], test['Category'] = train_test_split(data.Text, data.Category, test_size=.2)\n",
    "\n",
    "skmodel = make_pipeline(TfidfVectorizer(), MultinomialNB())\n",
    "skmodel.fit(train['Text'], train['Category'])\n",
    "predicted = skmodel.predict(test['Text'])\n",
    "test['Predicted'] = predicted\n",
    "\n",
    "print(f\"Accuracy: {np.sum(np.where(test['Category'] == test['Predicted'], 1, 0))/len(test)}\")\n",
    "print(test)"
   ]
  }
 ],
 "metadata": {
  "interpreter": {
   "hash": "caa02fbe39fa2ee16d45552c290d7402c36c73c484e83d2d190ee580e317b9da"
  },
  "kernelspec": {
   "display_name": "Python 3.9.7 64-bit",
   "name": "python3"
  },
  "language_info": {
   "codemirror_mode": {
    "name": "ipython",
    "version": 3
   },
   "file_extension": ".py",
   "mimetype": "text/x-python",
   "name": "python",
   "nbconvert_exporter": "python",
   "pygments_lexer": "ipython3",
   "version": "3.9.7"
  },
  "orig_nbformat": 4
 },
 "nbformat": 4,
 "nbformat_minor": 2
}
